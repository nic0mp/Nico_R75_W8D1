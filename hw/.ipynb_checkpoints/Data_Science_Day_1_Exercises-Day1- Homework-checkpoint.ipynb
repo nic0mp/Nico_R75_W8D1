{
 "cells": [
  {
   "cell_type": "markdown",
   "metadata": {},
   "source": [
    "# Exercises"
   ]
  },
  {
   "cell_type": "markdown",
   "metadata": {},
   "source": [
    "### #1 - Calculate the BMI (body mass index) on the two lists below using NDArrays..."
   ]
  },
  {
   "cell_type": "code",
   "execution_count": 10,
   "metadata": {},
   "outputs": [
    {
     "data": {
      "text/plain": [
       "array([16.86620458, 17.87755102, 18.82562984, 19.71450617, 20.54794521,\n",
       "       21.32943755, 22.06222222])"
      ]
     },
     "execution_count": 10,
     "metadata": {},
     "output_type": "execute_result"
    }
   ],
   "source": [
    "import numpy as np\n",
    "# formula = weight / (height**2) * 730\n",
    "height = np.array([69, 70, 71, 72, 73, 74, 75])\n",
    "weight = np.array([110, 120, 130, 140, 150, 160, 170])\n",
    "\n",
    "# OUTPUT: [16.86620458 17.87755102 18.82562984 19.71450617 20.54794521 21.32943755\n",
    "# 22.06222222]\n",
    "result_bmi = weight/height **2 *730\n",
    "result_bmi"
   ]
  },
  {
   "cell_type": "markdown",
   "metadata": {},
   "source": [
    "### #2 - Create a function that will take in two parameters and will create a random matrix based off of those parameters. Extra: Have additional parameters taken in that allow the user to choose the shape and data type of the matrix."
   ]
  },
  {
   "cell_type": "code",
   "execution_count": 15,
   "metadata": {},
   "outputs": [
    {
     "name": "stdout",
     "output_type": "stream",
     "text": [
      "Matrix with numbers between 0 and 10: \n",
      " [[ 7.33883406  0.81195932 14.77163914]\n",
      " [ 7.00564654 10.28467615  2.78644191]\n",
      " [11.0057807  11.97606916  8.45399578]]\n"
     ]
    }
   ],
   "source": [
    "\"\"\"\n",
    "Example Result\n",
    "array([[14.21633515,  7.98846653,  9.64140715],\n",
    "       [ 6.30982234,  9.96414331,  8.43153688],\n",
    "       [14.73102068, 11.76072894, 14.23356121]])\n",
    "\"\"\"\n",
    "# def makeMatrix(low,high,shape,data_type = float): -- Example\n",
    "#     pass\n",
    "print('Matrix with numbers between 0 and 10: \\n %s' % np.random.uniform(0, 15, (3, 3)))"
   ]
  },
  {
   "cell_type": "markdown",
   "metadata": {},
   "source": [
    "### #3 - Extra: Open and load the data in the two text files that have the Boston Red Sox hitting data for the past seasons. Compare the difference in the two years by putting the data into an NDArray and running a differencial operation on it. The column to look for will be SLG.\n",
    "\n",
    "Your output should display which year (either 2017 or 2018) was a better year based on SLG"
   ]
  },
  {
   "cell_type": "code",
   "execution_count": 3,
   "metadata": {},
   "outputs": [],
   "source": [
    "import csv\n",
    "import numpy as np\n"
   ]
  },
  {
   "cell_type": "code",
   "execution_count": 9,
   "metadata": {},
   "outputs": [
    {
     "name": "stdout",
     "output_type": "stream",
     "text": [
      "\n",
      " [( 1, b'C', b'Christian Vazquez', 26,  99, 345, 324,  43,  94, 18, 2,  5,  32,  7, 2, 17,  64, 0.29 , 0.33 , 0.404, 0.735,  91, 131, 14)\n",
      " ( 2, b'1B', b'Mitch Moreland', 31, 149, 576, 508,  73, 125, 34, 0, 22,  79,  0, 1, 57, 120, 0.246, 0.326, 0.443, 0.769,  99, 225, 14)\n",
      " ( 3, b'2B', b'Dustin Pedroia', 33, 105, 463, 406,  46, 119, 19, 0,  7,  62,  4, 3, 49,  48, 0.293, 0.369, 0.392, 0.76 , 100, 159, 11)\n",
      " ( 4, b'SS', b'Xander Bogaerts', 24, 148, 635, 571,  94, 156, 32, 6, 10,  62, 15, 1, 56, 116, 0.273, 0.343, 0.403, 0.746,  95, 230, 17)\n",
      " ( 5, b'3B', b'Rafael Devers', 20,  58, 240, 222,  34,  63, 14, 0, 10,  30,  3, 1, 18,  57, 0.284, 0.338, 0.482, 0.819, 111, 107,  5)\n",
      " ( 6, b'LF', b'Andrew Benintendi', 22, 151, 658, 573,  84, 155, 26, 1, 20,  90, 20, 5, 70, 112, 0.271, 0.352, 0.424, 0.776, 102, 243, 16)\n",
      " ( 7, b'CF', b'Jackie Bradley Jr.', 27, 133, 541, 482,  58, 118, 19, 3, 17,  63,  8, 3, 48, 124, 0.245, 0.323, 0.402, 0.726,  89, 194,  8)\n",
      " ( 8, b'RF', b'Mookie Betts', 24, 153, 712, 628, 101, 166, 46, 2, 24, 102, 26, 3, 77,  79, 0.264, 0.344, 0.459, 0.803, 108, 288,  9)\n",
      " ( 9, b'DH', b'Hanley Ramirez', 33, 133, 553, 496,  58, 120, 24, 0, 23,  62,  1, 3, 51, 116, 0.242, 0.32 , 0.429, 0.75 ,  94, 213, 15)\n",
      " (10, b'C', b'Sandy Leon', 28,  85, 301, 271,  32,  61, 14, 0,  7,  39,  0, 0, 25,  74, 0.225, 0.29 , 0.354, 0.644,  68,  96,  5)\n",
      " (11, b'UT', b'Chris Young', 33,  90, 276, 243,  30,  57, 12, 2,  7,  25,  3, 2, 30,  55, 0.235, 0.322, 0.387, 0.709,  85,  94,  4)\n",
      " (12, b'3B', b'Deven Marrero', 26,  71, 188, 171,  32,  36,  9, 0,  4,  27,  5, 0, 12,  61, 0.211, 0.259, 0.333, 0.593,  54,  57,  8)\n",
      " (13, b'2B', b'Eduardo Nunez', 30,  38, 173, 165,  23,  53, 12, 0,  8,  27,  6, 2,  6,  25, 0.321, 0.353, 0.539, 0.892, 128,  89,  3)\n",
      " (14, b'2B', b'Brock Holt', 29,  64, 164, 140,  20,  28,  6, 0,  0,   7,  2, 1, 19,  34, 0.2  , 0.305, 0.243, 0.548,  47,  34,  3)\n",
      " (15, b'IF', b'Josh Rutledge', 28,  37, 118, 107,  10,  24,  2, 1,  0,   9,  1, 0,  9,  31, 0.224, 0.297, 0.262, 0.558,  49,  28,  1)\n",
      " (16, b'3B', b'Pablo Sandoval', 30,  32, 108,  99,  10,  21,  2, 0,  4,  12,  0, 1,  8,  24, 0.212, 0.269, 0.354, 0.622,  61,  35,  4)\n",
      " (17, b'UT', b'Sam Travis', 23,  33,  83,  76,  13,  20,  6, 0,  0,   1,  1, 0,  6,  23, 0.263, 0.325, 0.342, 0.667,  75,  26,  2)\n",
      " (18, b'UT', b'Tzu-Wei Lin', 23,  25,  66,  56,   7,  15,  0, 2,  0,   2,  1, 1,  9,  17, 0.268, 0.369, 0.339, 0.709,  88,  19,  0)\n",
      " (19, b'IF', b'Marco Hernandez', 24,  21,  60,  58,   7,  16,  3, 0,  0,   2,  0, 1,  1,  15, 0.276, 0.3  , 0.328, 0.628,  65,  19,  0)\n",
      " (20, b'UT', b'Rajai Davis', 36,  17,  38,  36,   7,   9,  2, 0,  0,   2,  3, 1,  1,  13, 0.25 , 0.289, 0.306, 0.595,  56,  11,  2)\n",
      " (21, b'UT', b'Steve Selsky', 27,   8,   9,   9,   0,   1,  1, 0,  0,   0,  0, 0,  0,   5, 0.111, 0.111, 0.222, 0.333, -16,   2,  0)\n",
      " (22, b'UT', b'Blake Swihart', 25,   6,   7,   5,   1,   1,  0, 0,  0,   0,  0, 0,  2,   3, 0.2  , 0.429, 0.2  , 0.629,  74,   1,  0)\n",
      " (23, b'2B', b\"Chase d'Arnaud\", 30,   2,   1,   1,   2,   1,  0, 0,  0,   0,  0, 0,  0,   0, 1.   , 1.   , 1.   , 2.   , 428,   1,  0)] [( 1, b'C', b'Sandy Leon', 29,  89, 288, 265,  30,  47, 12, 0,  5,  22,  1, 0, 15,  75, 0.177, 0.232, 0.279, 0.511,  37,  74,  6)\n",
      " ( 2, b'1B', b'Mitch Moreland', 32, 124, 459, 404,  57,  99, 23, 4, 15,  68,  2, 0, 50, 102, 0.245, 0.325, 0.433, 0.758, 102, 175, 12)\n",
      " ( 3, b'2B', b'Eduardo Nunez', 31, 127, 502, 480,  56, 127, 23, 3, 10,  44,  7, 2, 16,  69, 0.265, 0.289, 0.388, 0.677,  81, 186, 17)\n",
      " ( 4, b'SS', b'Xander Bogaerts', 25, 136, 580, 513,  72, 148, 45, 3, 23, 103,  8, 2, 55, 102, 0.288, 0.36 , 0.522, 0.883, 135, 268, 14)\n",
      " ( 5, b'3B', b'Rafael Devers', 21, 121, 490, 450,  59, 108, 24, 0, 21,  66,  5, 2, 38, 121, 0.24 , 0.298, 0.433, 0.731,  94, 195,  9)\n",
      " ( 6, b'LF', b'Andrew Benintendi', 23, 148, 661, 579, 103, 168, 41, 6, 16,  87, 21, 3, 71, 106, 0.29 , 0.366, 0.465, 0.83 , 123, 269,  9)\n",
      " ( 7, b'CF', b'Jackie Bradley Jr.', 28, 144, 535, 474,  76, 111, 33, 4, 13,  59, 17, 1, 46, 137, 0.234, 0.314, 0.403, 0.717,  92, 191,  6)\n",
      " ( 8, b'RF', b'Mookie Betts', 25, 136, 614, 520, 129, 180, 47, 5, 32,  80, 30, 6, 81,  91, 0.346, 0.438, 0.64 , 1.078, 186, 333,  5)\n",
      " ( 9, b'DH', b'J.D. Martinez', 30, 150, 649, 569, 111, 188, 37, 2, 43, 130,  6, 1, 69, 146, 0.33 , 0.402, 0.629, 1.031, 173, 358, 19)\n",
      " (10, b'MI', b'Brock Holt', 30, 109, 367, 321,  41,  89, 18, 2,  7,  46,  7, 7, 37,  73, 0.277, 0.362, 0.411, 0.774, 109, 132,  7)\n",
      " (11, b'C', b'Christian Vazquez', 27,  80, 269, 251,  24,  52, 10, 0,  3,  16,  4, 1, 13,  41, 0.207, 0.257, 0.283, 0.54 ,  46,  71,  5)\n",
      " (12, b'UT', b'Blake Swihart', 26,  82, 207, 192,  28,  44, 10, 0,  3,  18,  6, 1, 15,  57, 0.229, 0.285, 0.328, 0.613,  65,  63,  4)\n",
      " (13, b'UT', b'Hanley Ramirez', 34,  44, 195, 177,  25,  45,  7, 0,  6,  29,  4, 1, 14,  35, 0.254, 0.313, 0.395, 0.708,  90,  70,  9)\n",
      " (14, b'1B', b'Steve Pearce', 35,  50, 165, 136,  19,  38,  8, 1,  7,  26,  0, 0, 22,  27, 0.279, 0.394, 0.507, 0.901, 141,  69,  1)\n",
      " (15, b'2B', b'Ian Kinsler', 36,  37, 143, 132,  17,  32,  6, 0,  1,  16,  7, 3, 10,  24, 0.242, 0.294, 0.311, 0.604,  64,  41,  5)\n",
      " (16, b'SS', b'Tzu-Wei Lin', 24,  37,  73,  65,  15,  16,  6, 1,  1,   6,  0, 1,  8,  17, 0.246, 0.329, 0.415, 0.744, 100,  27,  0)\n",
      " (17, b'UT', b'Sam Travis', 24,  19,  38,  36,   5,   8,  3, 0,  1,   7,  0, 0,  2,  10, 0.222, 0.263, 0.389, 0.652,  73,  14,  1)\n",
      " (18, b'UT', b'Brandon Phillips', 37,   9,  27,  23,   4,   3,  0, 0,  1,   2,  0, 0,  4,   7, 0.13 , 0.259, 0.261, 0.52 ,  42,   6,  1)\n",
      " (19, b'2B', b'Dustin Pedroia', 34,   3,  13,  11,   1,   1,  0, 0,  0,   0,  0, 0,  2,   1, 0.091, 0.231, 0.091, 0.322,  -7,   1,  0)\n",
      " (20, b'C', b'Dan Butler', 31,   2,   7,   6,   0,   1,  0, 0,  0,   1,  0, 0,  0,   2, 0.167, 0.143, 0.167, 0.31 , -17,   1,  0)]\n",
      "\n",
      " 2017 Total Slugging% : 9.04699994623661\n",
      "\n",
      " 2018 Total Slugging% : 7.750000067055225\n",
      "\n",
      " 2018 Total Slugging% dip : 1.296999879181385\n"
     ]
    }
   ],
   "source": [
    "\"\"\"\n",
    "Example Result - Not the actual result\n",
    "Boston 18 had more SLG in 2018\n",
    "[0.404 0.443 0.392 0.403 0.482 0.424 0.402 0.459 0.429 0.354 0.387 0.333\n",
    " 0.539 0.243 0.262 0.354 0.342 0.339 0.328 0.306 0.222 0.2   1.   ]\n",
    "\"\"\"\n",
    "\n",
    "FIELDS = ['Rk', 'Pos', 'Name', 'Age', 'G', 'PA', 'AB', 'R', 'H', '2B', '3B', 'HR', 'RBI', 'SB', 'CS', \n",
    "          'BB', 'SO', 'BA', 'OBP', 'SLG', 'OPS', 'OPS+', 'TB', 'GDP', 'HBP', 'SH', 'SF', 'IBB']\n",
    "\n",
    "DATATYPES = [('rk', 'i'), ('pos', '|S25'), ('name', '|S25'), ('age', 'i'), ('g', 'i'), ('pa', 'i'), ('ab', 'i'),\n",
    "                ('r', 'i'), ('h', 'i'), ('2b', 'i'), ('3b', 'i'), ('hr', 'i'), ('rbi', 'i'), ('sb', 'i'), ('cs', 'i'),\n",
    "                ('bb', 'i'), ('so', 'i'), ('ba', 'f'), ('obp', 'f'), ('slg', 'f'), ('ops', 'f'), ('opsp', 'i'),\n",
    "                ('tb', 'i'), ('gdp', 'i'), ('hbp', 'i'), ('sh', 'i'), ('sf', 'i'), ('ibb', 'i')]\n",
    "\n",
    "#Use this function to actually open the data inside of a NDArray\n",
    "\n",
    "def load_data(filename, d = ','):\n",
    "    data = np.genfromtxt(filename, delimiter = d, skip_header = 1,\n",
    "                        usecols = np.arange(0,24), invalid_raise = False,\n",
    "                        names = FIELDS, dtype = DATATYPES)\n",
    "    return data\n",
    "\n",
    "bs2017 = load_data('../../files/redsox_2017_hitting.txt')\n",
    "bs2018 = load_data('../../files/redsox_2018_hitting.txt')\n",
    "\n",
    "names = bs2017['Name']\n",
    "names2 = bs2018 ['Name']\n",
    "print('\\n',bs2017,bs2018)\n",
    "\n",
    "slugs17 = sum(bs2017['SLG'])\n",
    "print(f'\\n 2017 Total Slugging% : {slugs17}')\n",
    "\n",
    "slugs18 = sum(bs2018['SLG'])\n",
    "print(f'\\n 2018 Total Slugging% : {slugs18}')\n",
    "\n",
    "slgDiff = slugs17 - slugs18\n",
    "print(f'\\n 2018 Total Slugging% dip : {slgDiff}')"
   ]
  },
  {
   "cell_type": "code",
   "execution_count": null,
   "metadata": {},
   "outputs": [],
   "source": []
  }
 ],
 "metadata": {
  "kernelspec": {
   "display_name": "Python 3",
   "language": "python",
   "name": "python3"
  },
  "language_info": {
   "codemirror_mode": {
    "name": "ipython",
    "version": 3
   },
   "file_extension": ".py",
   "mimetype": "text/x-python",
   "name": "python",
   "nbconvert_exporter": "python",
   "pygments_lexer": "ipython3",
   "version": "3.8.8"
  }
 },
 "nbformat": 4,
 "nbformat_minor": 2
}
